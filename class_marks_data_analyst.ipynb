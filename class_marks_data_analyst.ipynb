{
  "nbformat": 4,
  "nbformat_minor": 0,
  "metadata": {
    "colab": {
      "provenance": [],
      "authorship_tag": "ABX9TyP3Mp8iIzhI7gtx1cDTg7BT",
      "include_colab_link": true
    },
    "kernelspec": {
      "name": "python3",
      "display_name": "Python 3"
    },
    "language_info": {
      "name": "python"
    }
  },
  "cells": [
    {
      "cell_type": "markdown",
      "metadata": {
        "id": "view-in-github",
        "colab_type": "text"
      },
      "source": [
        "<a href=\"https://colab.research.google.com/github/darora9/class-marks-analyst/blob/main/class_marks_data_analyst.ipynb\" target=\"_parent\"><img src=\"https://colab.research.google.com/assets/colab-badge.svg\" alt=\"Open In Colab\"/></a>"
      ]
    },
    {
      "cell_type": "code",
      "execution_count": null,
      "metadata": {
        "id": "MG6OKELEsBJs"
      },
      "outputs": [],
      "source": [
        "class student:\n",
        "  def __init__ (self,maths,science,english,it):\n",
        "    self.maths=maths\n",
        "    self.english=english\n",
        "    self.science=science\n",
        "    self.it=it\n",
        "\n",
        "students=[]\n",
        "allmaths=[]\n",
        "allenglish=[]\n",
        "allit=[]\n",
        "allscience=[]\n",
        "\n",
        "for i in range(10):\n",
        "    maths=int(input(\"enter maths marks for student {}: \".format(i+1)))\n",
        "    while maths>100:\n",
        "     print(\"marks can not exceed 100 please re-enter\")\n",
        "     maths=int(input(\"enter maths marks for student {}: \".format(i+1)))\n",
        "    allmaths.append(maths)\n",
        "\n",
        "    english=int(input(\"enter english marks for student {}: \".format(i+1)))\n",
        "    while english>100:\n",
        "     print(\"marks can not exceed 100 please re-enter\")\n",
        "     english=int(input(\"enter english marks for student {}: \".format(i+1)))\n",
        "    allenglish.append(english)\n",
        "\n",
        "    science=int(input(\"enter science marks for student {}: \".format(i+1)))\n",
        "    while science>100:\n",
        "     print(\"marks can not exceed 100 please re-enter\")\n",
        "     science=int(input(\"enter science marks for student {}: \".format(i+1)))\n",
        "    allscience.append(science)\n",
        "\n",
        "    it=int(input(\"enter it marks for student {}: \".format(i+1)))\n",
        "    while it>100:\n",
        "     print(\"marks can not exceed 100 please re-enter\")\n",
        "     it=int(input(\"enter it marks for student {}: \".format(i+1)))\n",
        "    allit.append(it)\n",
        "\n",
        "\n",
        "    s=student(maths,science,english,it)\n",
        "    students.append(s)\n",
        "\n",
        "print(\"maximum math marks are = \" ,max(allmaths))\n",
        "print(\"maximum english marks are = \" ,max(allenglish))\n",
        "print(\"maximum it marks are = \" ,max(allit))\n",
        "print(\"maximum science marks are = \" ,max(allscience))\n",
        "\n",
        "print(\"mimimum math marks are = \" ,min(allmaths))\n",
        "print(\"mimimum english marks are = \" ,min(allenglish))\n",
        "print(\"mimimum it marks are = \" ,min(allit))\n",
        "print(\"mimimum science marks are = \" ,min(allscience))\n",
        "\n",
        "print(\"average math marks are = \" ,sum(allmaths)/len(allmaths))\n",
        "print(\"average english marks are = \" ,sum(allenglish)/len(allenglish))\n",
        "print(\"average it marks are = \" ,sum(allit)/len(allit))\n",
        "print(\"average science marks are = \" ,sum(allscience)/len(allscience))\n",
        "\n",
        "allmarks=allmaths+allit+allenglish+allscience\n",
        "\n",
        "print(\"maximum marks overall= \", max(allmarks))\n",
        "print(\"minimum marks overall= \", min(allmarks))\n",
        "print(\"average marks overall= \", sum(allmarks)/len(allmarks))\n",
        "\n",
        "\n",
        "\n",
        "\n",
        "\n"
      ]
    }
  ]
}